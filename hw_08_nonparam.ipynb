{
 "cells": [
  {
   "cell_type": "markdown",
   "id": "9074d943",
   "metadata": {},
   "source": [
    "<center>\n",
    "<img src=\"https://raw.githubusercontent.com/FUlyankin/r_probability/master/end_seminars_2020/sem08/real_expect.png\" width=\"500\">\n",
    "\n",
    "# Домашнее задание 8: непараметрические критерии\n",
    "</center>"
   ]
  },
  {
   "cell_type": "markdown",
   "id": "153348a7",
   "metadata": {},
   "source": [
    "**ФИО:**"
   ]
  },
  {
   "cell_type": "markdown",
   "id": "f40dc119",
   "metadata": {},
   "source": [
    "## Общая информация\n",
    "\n",
    "- [Лекция](https://youtu.be/PpZLJ1vXiS4)\n",
    "- Полезные блокноты: [Тесты с курсеры,](https://github.com/FUlyankin/matstat-AB/blob/main/week10_nonparam_bootstrap/08_python_non_parametric.ipynb) [тетрадка с андана](https://github.com/hse-econ-data-science/andan2024/blob/main/sem13_moreAB/sem13_noparam_hypotesis_sol.ipynb)\n",
    "\n",
    "__Дата выдачи:__ 01.06.2024\n",
    "\n",
    "__Дедлайн:__ 23:59MSK 20.06.2024"
   ]
  },
  {
   "cell_type": "markdown",
   "id": "3967d789",
   "metadata": {},
   "source": [
    "## Задание 1 (ломаем тест Манна-Уитни)\n",
    "\n",
    "Тест Манна-Уитни [довольно легко сломать.](https://habr.com/ru/companies/avito/articles/709596/) \n",
    "\n",
    "Главная предпосылка теста заключается в том, что распределение не меняется, но у него происходит сдвиг. \n",
    "\n",
    "\\begin{equation*}\n",
    "    \\begin{aligned}\n",
    "    & H_0: F_X(x) = F_Y(y) \\\\\n",
    "    & H_A: F_X(x) = F_Y(y + m), m \\ne 0\n",
    "    \\end{aligned}\n",
    "\\end{equation*}\n",
    "\n",
    "\n",
    "<center>\n",
    "<img src='https://raw.githubusercontent.com/hse-econ-data-science/andan_2023/main/sem12_more_ab/mw.png' align='center' width=\"300x\">\n",
    "</center>\n",
    "\n",
    "Воспользуемся этим. "
   ]
  },
  {
   "cell_type": "code",
   "execution_count": null,
   "id": "3a3e215c",
   "metadata": {},
   "outputs": [],
   "source": [
    "import matplotlib.pyplot as plt\n",
    "import scipy.stats as sts\n",
    "\n",
    "n_obs = 10**6\n",
    "x = sts.norm(0.5, 0.25).rvs(n_obs)\n",
    "y = 3*sts.bernoulli(0.5).rvs(n_obs) - 1\n",
    "\n",
    "# В результате АБ-теста произошла поляризация мнений!\n",
    "\n",
    "plt.hist(x, bins=100, density=True, label='N(0.5,1)');\n",
    "plt.hist(y, density=True, label='Bern(0.5)', log=True);\n",
    "plt.legend();"
   ]
  },
  {
   "cell_type": "code",
   "execution_count": null,
   "id": "1057b4e6",
   "metadata": {},
   "outputs": [],
   "source": [
    "# Тест Манна-Уитни говорит, что изменений нет, хотя они, очевидно, есть :(\n",
    "_, pval = sts.mannwhitneyu(x, y, alternative='two-sided')\n",
    "pval"
   ]
  },
  {
   "cell_type": "code",
   "execution_count": null,
   "id": "abb42670",
   "metadata": {},
   "outputs": [],
   "source": [
    "# А вот тест Колмогорова-Смирнова заметит изменения :) \n",
    "# Сможете объяснить почему? \n",
    "sts.ks_2samp(x, y)"
   ]
  },
  {
   "cell_type": "markdown",
   "id": "77248b58",
   "metadata": {},
   "source": [
    "__а) [5 баллов]__ Проведите для подобной ситуации с поляризацией больше испытаний. Постройте для теста Манна-Уитни и для KS-теста ROC-кривые по аналогии с тем, как мы деали это в ДЗ-5 базовой группы."
   ]
  },
  {
   "cell_type": "code",
   "execution_count": null,
   "id": "2972ae8f",
   "metadata": {},
   "outputs": [],
   "source": [
    "### ╰( ͡° ͜ʖ ͡° )つ▬▬ι═══════  bzzzzzzzzzz\n",
    "# will the code be with you"
   ]
  },
  {
   "cell_type": "markdown",
   "id": "1b920c71",
   "metadata": {},
   "source": [
    "__б) [5 баллов]__ Придумайте ещё какой-нибудь пример, где тест Манна-Уитни сломается, а KS-тест нет. Нарисуйте для него ROC-кривые."
   ]
  },
  {
   "cell_type": "code",
   "execution_count": null,
   "id": "44df84b8",
   "metadata": {},
   "outputs": [],
   "source": [
    "### ╰( ͡° ͜ʖ ͡° )つ▬▬ι═══════  bzzzzzzzzzz\n",
    "# will the code be with you"
   ]
  },
  {
   "cell_type": "markdown",
   "id": "618be2ee",
   "metadata": {},
   "source": [
    "__в) [бонусные 5 баллов]__ Реализуйте [перестановочный тест](https://youtu.be/uKqsqAJtdzI) и с помощью симуляций продемонстрируйте, чето он обладает ровно такими же проблемами, как и тест Манна-Уитни."
   ]
  },
  {
   "cell_type": "code",
   "execution_count": null,
   "id": "b03ce774",
   "metadata": {},
   "outputs": [],
   "source": [
    "### ╰( ͡° ͜ʖ ͡° )つ▬▬ι═══════  bzzzzzzzzzz\n",
    "# will the code be with you"
   ]
  }
 ],
 "metadata": {
  "kernelspec": {
   "display_name": "Python 3 (ipykernel)",
   "language": "python",
   "name": "python3"
  },
  "language_info": {
   "codemirror_mode": {
    "name": "ipython",
    "version": 3
   },
   "file_extension": ".py",
   "mimetype": "text/x-python",
   "name": "python",
   "nbconvert_exporter": "python",
   "pygments_lexer": "ipython3",
   "version": "3.10.9"
  }
 },
 "nbformat": 4,
 "nbformat_minor": 5
}
